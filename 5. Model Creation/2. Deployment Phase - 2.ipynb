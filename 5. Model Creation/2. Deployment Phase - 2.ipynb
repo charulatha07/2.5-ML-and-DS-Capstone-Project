{
 "cells": [
  {
   "cell_type": "code",
   "execution_count": 1,
   "id": "23a0dbe9",
   "metadata": {},
   "outputs": [],
   "source": [
    "import pickle"
   ]
  },
  {
   "cell_type": "code",
   "execution_count": 2,
   "id": "9d690be3",
   "metadata": {},
   "outputs": [],
   "source": [
    "load_model=pickle.load(open(\"Insurance_Claims_Prediction.sav\",'rb'))"
   ]
  },
  {
   "cell_type": "code",
   "execution_count": 3,
   "id": "13c5b281",
   "metadata": {},
   "outputs": [
    {
     "name": "stdout",
     "output_type": "stream",
     "text": [
      "Subscription Length (e.g., 10.5): 8.5\n",
      "Vehicle Age in years (e.g., 1.2): 1.3\n",
      "Customer Age: 45\n",
      "Region Density: 12000\n",
      "Number of Airbags: 6\n",
      "Engine Displacement (cc): 1500\n",
      "Number of Cylinders: 4\n",
      "Turning Radius (e.g., 5.2): 5.1\n",
      "Vehicle Length (mm): 4200\n",
      "Vehicle Width (mm): 1780\n",
      "Gross Weight (kg): 1400\n",
      "NCAP Rating (1–5): 5\n",
      "Segment (encoded as int): 2\n",
      "Fuel Type (encoded as int): 1\n",
      "Engine Type (encoded as int): 3\n",
      "ESC Available (0 = No, 1 = Yes): 1\n",
      "Adjustable Steering (0/1): 1\n",
      "TPMS Present (0/1): 1\n",
      "Parking Sensors (0/1): 1\n",
      "Parking Camera (0/1): 1\n",
      "Rear Brakes Type (encoded): 2\n",
      "Transmission Type (encoded): 1\n",
      "Steering Type (encoded): 2\n",
      "Front Fog Lights (0/1): 1\n",
      "Rear Window Wiper (0/1): 1\n",
      "Rear Window Washer (0/1): 1\n",
      "Rear Window Defogger (0/1): 1\n",
      "Brake Assist (0/1): 1\n",
      "Power Door Locks (0/1): 1\n",
      "Central Locking (0/1): 1\n",
      "Power Steering (0/1): 1\n",
      "Height Adjustable Driver Seat (0/1): 1\n",
      "Day/Night Rear View Mirror (0/1): 1\n",
      "ECW Feature (0/1): 1\n",
      "Speed Alert (0/1): 1\n"
     ]
    }
   ],
   "source": [
    "def get_categorical_prediction(prediction):\n",
    "    return \"Yes\" if prediction == 1 else \"No\"\n",
    "subscription_length = float(input(\"Subscription Length (e.g., 10.5): \"))\n",
    "vehicle_age = float(input(\"Vehicle Age in years (e.g., 1.2): \"))\n",
    "customer_age = int(input(\"Customer Age: \"))\n",
    "region_density = int(input(\"Region Density: \"))\n",
    "airbags = int(input(\"Number of Airbags: \"))\n",
    "displacement = int(input(\"Engine Displacement (cc): \"))\n",
    "cylinder = int(input(\"Number of Cylinders: \"))\n",
    "turning_radius = float(input(\"Turning Radius (e.g., 5.2): \"))\n",
    "length = int(input(\"Vehicle Length (mm): \"))\n",
    "width = int(input(\"Vehicle Width (mm): \"))\n",
    "gross_weight = int(input(\"Gross Weight (kg): \"))\n",
    "ncap_rating = int(input(\"NCAP Rating (1–5): \"))\n",
    "segment = int(input(\"Segment (encoded as int): \"))\n",
    "fuel_type = int(input(\"Fuel Type (encoded as int): \"))\n",
    "engine_type = int(input(\"Engine Type (encoded as int): \"))\n",
    "is_esc = int(input(\"ESC Available (0 = No, 1 = Yes): \"))\n",
    "is_adjustable_steering = int(input(\"Adjustable Steering (0/1): \"))\n",
    "is_tpms = int(input(\"TPMS Present (0/1): \"))\n",
    "is_parking_sensors = int(input(\"Parking Sensors (0/1): \"))\n",
    "is_parking_camera = int(input(\"Parking Camera (0/1): \"))\n",
    "rear_brakes_type = int(input(\"Rear Brakes Type (encoded): \"))\n",
    "transmission_type = int(input(\"Transmission Type (encoded): \"))\n",
    "steering_type = int(input(\"Steering Type (encoded): \"))\n",
    "is_front_fog_lights = int(input(\"Front Fog Lights (0/1): \"))\n",
    "is_rear_window_wiper = int(input(\"Rear Window Wiper (0/1): \"))\n",
    "is_rear_window_washer = int(input(\"Rear Window Washer (0/1): \"))\n",
    "is_rear_window_defogger = int(input(\"Rear Window Defogger (0/1): \"))\n",
    "is_brake_assist = int(input(\"Brake Assist (0/1): \"))\n",
    "is_power_door_locks = int(input(\"Power Door Locks (0/1): \"))\n",
    "is_central_locking = int(input(\"Central Locking (0/1): \"))\n",
    "is_power_steering = int(input(\"Power Steering (0/1): \"))\n",
    "is_driver_seat_height_adjustable = int(input(\"Height Adjustable Driver Seat (0/1): \"))\n",
    "is_day_night_rear_view_mirror = int(input(\"Day/Night Rear View Mirror (0/1): \"))\n",
    "is_ecw = int(input(\"ECW Feature (0/1): \"))\n",
    "is_speed_alert = int(input(\"Speed Alert (0/1): \"))\n",
    "\n",
    "\n",
    "#Only use the 9 selected features for prediction\n",
    "selected_input = [[\n",
    "    subscription_length, vehicle_age,\n",
    "customer_age, region_density, turning_radius, \n",
    "length, width, gross_weight, engine_type\n",
    "]]\n"
   ]
  },
  {
   "cell_type": "code",
   "execution_count": 4,
   "id": "81601c5e",
   "metadata": {},
   "outputs": [],
   "source": [
    "#Make prediction using trained model\n",
    "Final_result = load_model.predict(selected_input)\n"
   ]
  },
  {
   "cell_type": "code",
   "execution_count": 5,
   "id": "4d23cb27",
   "metadata": {},
   "outputs": [
    {
     "data": {
      "text/plain": [
       "'Yes'"
      ]
     },
     "execution_count": 5,
     "metadata": {},
     "output_type": "execute_result"
    }
   ],
   "source": [
    "future_prediction_categorical = get_categorical_prediction(Final_result)\n",
    "future_prediction_categorical"
   ]
  },
  {
   "cell_type": "code",
   "execution_count": 6,
   "id": "f0ff6264",
   "metadata": {},
   "outputs": [
    {
     "name": "stdout",
     "output_type": "stream",
     "text": [
      "Whether this Customer will file an insurance claim: Yes\n"
     ]
    }
   ],
   "source": [
    "# Print the categorical prediction\n",
    "#future_prediction_categorical = 'Yes' if Final_result[0] == 1 else 'No'\n",
    "\n",
    "print(\"Whether this Customer will file an insurance claim:\", future_prediction_categorical)"
   ]
  },
  {
   "cell_type": "code",
   "execution_count": null,
   "id": "8881e4ad",
   "metadata": {},
   "outputs": [],
   "source": []
  }
 ],
 "metadata": {
  "kernelspec": {
   "display_name": "Python 3 (ipykernel)",
   "language": "python",
   "name": "python3"
  },
  "language_info": {
   "codemirror_mode": {
    "name": "ipython",
    "version": 3
   },
   "file_extension": ".py",
   "mimetype": "text/x-python",
   "name": "python",
   "nbconvert_exporter": "python",
   "pygments_lexer": "ipython3",
   "version": "3.11.5"
  }
 },
 "nbformat": 4,
 "nbformat_minor": 5
}

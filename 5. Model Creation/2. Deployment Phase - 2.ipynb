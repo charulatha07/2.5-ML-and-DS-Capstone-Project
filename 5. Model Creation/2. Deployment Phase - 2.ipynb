{
 "cells": [
  {
   "cell_type": "code",
   "execution_count": 1,
   "id": "23a0dbe9",
   "metadata": {},
   "outputs": [],
   "source": [
    "import pickle"
   ]
  },
  {
   "cell_type": "code",
   "execution_count": 2,
   "id": "9d690be3",
   "metadata": {},
   "outputs": [],
   "source": [
    "load_model=pickle.load(open(\"Insurance_Claims_Prediction.sav\",'rb'))"
   ]
  },
  {
   "cell_type": "code",
   "execution_count": 3,
   "id": "13c5b281",
   "metadata": {},
   "outputs": [
    {
     "name": "stdout",
     "output_type": "stream",
     "text": [
      "Subscription Length (e.g., 10.5): 3.0\n",
      "Vehicle Age in years (e.g., 1.2): 4.5\n",
      "Customer Age: 22\n",
      "Region Density: 9500\n",
      "Turning Radius (e.g., 5.2): 5.1\n",
      "Vehicle Length (mm): 4000\n",
      "Vehicle Width (mm): 1700\n",
      "Gross Weight (kg): 1600\n",
      "Engine Type (encoded as int): 1\n"
     ]
    }
   ],
   "source": [
    "def get_categorical_prediction(prediction):\n",
    "    return \"Yes\" if prediction[0] == 1 else \"No\"\n",
    "\n",
    "# Input prompts for only the 9 selected features\n",
    "subscription_length = float(input(\"Subscription Length (e.g., 10.5): \"))\n",
    "vehicle_age = float(input(\"Vehicle Age in years (e.g., 1.2): \"))\n",
    "customer_age = int(input(\"Customer Age: \"))\n",
    "region_density = int(input(\"Region Density: \"))\n",
    "turning_radius = float(input(\"Turning Radius (e.g., 5.2): \"))\n",
    "length = int(input(\"Vehicle Length (mm): \"))\n",
    "width = int(input(\"Vehicle Width (mm): \"))\n",
    "gross_weight = int(input(\"Gross Weight (kg): \"))\n",
    "engine_type = int(input(\"Engine Type (encoded as int): \"))\n",
    "\n",
    "# Create the input list for prediction\n",
    "input_features = [[\n",
    "    subscription_length,\n",
    "    vehicle_age,\n",
    "    customer_age,\n",
    "    region_density,\n",
    "    turning_radius,\n",
    "    length,\n",
    "    width,\n",
    "    gross_weight,\n",
    "    engine_type\n",
    "]]\n",
    "\n"
   ]
  },
  {
   "cell_type": "code",
   "execution_count": 4,
   "id": "81601c5e",
   "metadata": {},
   "outputs": [],
   "source": [
    "#Make prediction using trained model\n",
    "Final_result = load_model.predict(input_features)\n"
   ]
  },
  {
   "cell_type": "code",
   "execution_count": 5,
   "id": "4d23cb27",
   "metadata": {},
   "outputs": [
    {
     "data": {
      "text/plain": [
       "'No'"
      ]
     },
     "execution_count": 5,
     "metadata": {},
     "output_type": "execute_result"
    }
   ],
   "source": [
    "future_prediction_categorical = get_categorical_prediction(Final_result)\n",
    "future_prediction_categorical"
   ]
  },
  {
   "cell_type": "code",
   "execution_count": 6,
   "id": "f0ff6264",
   "metadata": {},
   "outputs": [
    {
     "name": "stdout",
     "output_type": "stream",
     "text": [
      "Whether this Customer will file an insurance claim: No\n"
     ]
    }
   ],
   "source": [
    "# Print the categorical prediction\n",
    "#future_prediction_categorical = 'Yes' if Final_result[0] == 1 else 'No'\n",
    "\n",
    "print(\"Whether this Customer will file an insurance claim:\", future_prediction_categorical)"
   ]
  },
  {
   "cell_type": "code",
   "execution_count": null,
   "id": "8881e4ad",
   "metadata": {},
   "outputs": [],
   "source": []
  }
 ],
 "metadata": {
  "kernelspec": {
   "display_name": "Python 3 (ipykernel)",
   "language": "python",
   "name": "python3"
  },
  "language_info": {
   "codemirror_mode": {
    "name": "ipython",
    "version": 3
   },
   "file_extension": ".py",
   "mimetype": "text/x-python",
   "name": "python",
   "nbconvert_exporter": "python",
   "pygments_lexer": "ipython3",
   "version": "3.11.5"
  }
 },
 "nbformat": 4,
 "nbformat_minor": 5
}
